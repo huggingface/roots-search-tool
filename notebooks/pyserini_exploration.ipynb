{
 "cells": [
  {
   "cell_type": "code",
   "execution_count": 1,
   "id": "249fb18d",
   "metadata": {},
   "outputs": [
    {
     "name": "stdout",
     "output_type": "stream",
     "text": [
      " 1 book_dash_books|28|para_256_16_0 2.00900 {\n",
      "  \"id\" : \"book_dash_books|28|para_256_16_0\",\n",
      "  \"contents\" : \"zanele situ my story i was born in summer in a town called matatiele in the eastern cape matatiele is near lesotho where there are many mountains in the winter they are covered with snow my father was a builder and he moved from place to place to find work we moved to lesotho and thats where i started school i was very happy but when i was eleven years old i grew tired and weak and then i couldnt walk my parents took me to the hospital i had to stay in hospital for three years i was very tired and i slept many hours every day after three years the doctors told me i would not be able to walk again i was very sad because i love sports i went to a special school in umtata and my teachers encouraged me it was a very busy school with lots of activities like sport and sewing on weekends we had tasks to do we had to clean our rooms polish our shoes and clean our wheelchairs i decided to keep trying and never give up if you have a disability you can still do something you love i love to see how far i can go so i entered a competition i won a bronze medal for shot putt a silver medal for discus and a gold medal for javelin i wanted to get better and better at my sports so i trained very hard when i rested i loved to sew and listen\"\n",
      "}\n",
      " 2 book_dash_books|17|para_256_16_1 1.77910 {\n",
      "  \"id\" : \"book_dash_books|17|para_256_16_1\",\n",
      "  \"contents\" : \"she left the school to work as a cleaner she worked in four different houses sometimes the people there treated her badly and sindiwe became very unhappy all this time sindiwe studied her hard work paid off she won a scholarship to study at a university in new york she and her three small children packed their bags and flew across the sea to the united states of america in new york sindiwe studied to become a social worker she wanted to help families make their lives better when she finished studying the united nations gave sindiwe a job most of the countries in the world meet at the united nations to talk about their problems sindiwe told the world about south africa and how hard it was for black people living there the people at the united nations loved to listen to sindiwes stories they wanted to learn more and more about south africans perhaps together they could help to change things in south africa she worked at the united nations for twenty years while her children grew into adults but sindiwe missed the country where she was born she wanted to tell her stories to the people at home so she packed her luggage got on a plane and flew back over the sea to cape town sindiwes love for books and stories have helped her write piles and piles of books and children and grownups love to read her stories many people call her nomabali because shes always writing telling and reading stories\"\n",
      "}\n",
      " 3 book_dash_books|18|para_256_16_0 1.74940 {\n",
      "  \"id\" : \"book_dash_books|18|para_256_16_0\",\n",
      "  \"contents\" : \"singing the truth the story of miriam makeba a long time ago in the vast city of johannesburg a baby girl was born that baby was me my mom called me miriam miriam makeba mom was a sangoma but she also worked to make other peoples homes neat and clean it was hard for my mom to earn enough for both of us she started selling homemade beer to bring in more money the laws of the land said that selling homemade beer was wrong the police sent my mom to jail for six long months i was only 18 days old and needed my mom so even though i was just a baby i went to jail too as a little girl i loved to sing when i was older i helped my mom clean houses singing songs as i worked made the chores go faster and the days seem brighter singing made me happier than i can explain i sang in my church and this made others happy too music has the power to bring people together when we were singing we felt brave and strong people said my voice was a gift and my songs were special i sang with other musicians and our music was heard all over the world my home was sophiatown a place of culture and music sophiatown a place where south africans could make music in harmony and dance together but the people who ruled the land at the time did not like this togetherness those rulers didnt\"\n",
      "}\n",
      " 4 book_dash_books|4|para_256_16_0 1.21590 {\n",
      "  \"id\" : \"book_dash_books|4|para_256_16_0\",\n",
      "  \"contents\" : \"graças dream graça was about to be born in a small village in mozambique the country was poor and the people did not yet rule themselves children didnt have good schools and many couldnt read graças mother dreamed of giving her children better opportunities but without education there was little hope baby graça would be the sixth child but with this joyous event there was great sadness their beloved father was dying he dreamed that his youngest daughter would go to a good school he knew that education would give her opportunities he never had his family promised to make their dads dream come true just weeks after their dad died the new baby was born she was given a name to match the beauty and blessing that she was – graça as the years passed graça brought much joy to her family and they kept the promise made to their father graça would have a good education graça worked hard at school and as a teenager she received a gift that would change her life it was a scholarship to attend a rich city school she dreamed of becoming a teacher and using her education to educate others she wanted the children of her beloved mozambique to know reading and learning she dreamed of a time when all children would go to school graça did her best in that city school and years later she was blessed again it was another scholarship to attend a university in faraway portugal she met new friends learned new\"\n",
      "}\n",
      " 5 book_dash_books|25|para_256_16_1 1.10430 {\n",
      "  \"id\" : \"book_dash_books|25|para_256_16_1\",\n",
      "  \"contents\" : \"going too fast called tortoise alright then ill hop on too tortoise walked on with snail and sparrow perched on his shell they looked and looked but there was no sign of a house are you looking for something asked ladybird yes were looking for tortoises house have you seen it no i havent but ill help you look ladybird hopped onto tortoises shell tortoise walked on with snail and sparrow and ladybird sitting on his back they looked and looked but there was no sign of a house a breeze started to blow are you looking for something asked mouse yes mouse im looking for my house have you seen it no i havent but ill help you look mouse jumped onto tortoises back tortoise walked on with snail and sparrow and ladybird and mouse on his back they looked and looked but there was no sign of a house the wind swept the leaves off the ground and swirled them around tortoise the wind got stronger and stronger the sky turned dark oh where is my house tortoise sighed thunder roared in the hills lightning flashed in the distance drip drip came the rain oh where is tortoises house asked snail and sparrow and ladybird and mouse the wind whirled and whipped and blew snail and sparrow and ladybird and mouse right off tortoises back eek squeaked tortoise with a fright and he shrank back into his shell it was warm and cosy inside oh here is my house oh here is tortoises house\"\n",
      "}\n",
      " 6 book_dash_books|13|para_256_16_0 0.93230 {\n",
      "  \"id\" : \"book_dash_books|13|para_256_16_0\",\n",
      "  \"contents\" : \"queen of soweto the story of basetsana kumalo basetsana makgalemele was born in a township called soweto she was her parents third daughter they named her basetsana which means girls in tswana culture calling your daughter that means your next child will be a boy this actually happened her parents next child was a boy her parents big sisters and younger brother all called her bassie for short when she was a child bassie was very shy she liked to sing and dance in her room on her own one day at school netball practice the coach told two girls to pick teams bassie stood on the edge of the field hoping someone would say come play with us but nobody wanted her on their team little did they know bassie would become one of the most popular girls in the country on weekends she and her brother and sisters helped their teacher mom and bus driver dad to pay the bills they made sandwiches to sell at local soccer matches they tried to sell everything as fast as they could so they had time to play with the other children when the game was over by the time bassie turned 16 she was a beautiful young woman she was so beautiful that she won two beauty competitions in one year miss soweto and miss black south africa but bassie was not only beautiful on the outside she was also beautiful on the inside even though she was a beauty queen she still cared about the\"\n",
      "}\n",
      " 7 book_dash_books|17|para_256_16_0 0.93230 {\n",
      "  \"id\" : \"book_dash_books|17|para_256_16_0\",\n",
      "  \"contents\" : \"sindiwe and the fireflies one day a very clever baby was born in gungululu in the eastern cape her name was sindiwe magona she was the oldest of eight children at night her grandmother told magical stories about ogres and giants animals of the forests great beasts and little creatures of the veld it was sindiwes favourite time sindiwe loved school and she dreamed about being a teacher when sindiwe became a teenager her family organised a feast to celebrate she was given special things to wear and a wise old man sang a praise song to her blessings long life may your ancestors guard you sindiwe trained to be a teacher she was very excited to teach at her first school but there werent enough schools for black children and they had no desks or books to write in this made sindiwe feel scared how could she be a good teacher when the children had nowhere to sit she left the school to work as a cleaner she worked in four different houses sometimes the people there treated her badly and sindiwe became very unhappy all this time sindiwe studied her hard work paid off she won a scholarship to study at a university in new york she and her three small children packed their bags and flew across the sea to the united states of america in new york sindiwe studied to become a social worker she wanted to help families make their lives better when she finished studying the united nations gave sindiwe\"\n",
      "}\n",
      " 8 book_dash_books|9|para_256_16_0 0.93230 {\n",
      "  \"id\" : \"book_dash_books|9|para_256_16_0\",\n",
      "  \"contents\" : \"lory dory one night grandpa was tucking me in his hands were soft and his hair was thin im going to tell you a special story about a girl named lory dory you couldnt see lory dory at all because she was born invisible youd only see lory when rain hit her head or when she was curled under blankets in bed lory was left out of all the kids games they teased her and they called her names look its lory the imaginary friend shes not like us shes just pretend one day at school a boy wanted to know how do you look i only see you in snow can you paint yourself lory knew that she could but not in the same way the boy thought she would lory painted her body with all that she loved from the world all around and the sky up above she painted herself every day with such pride to bring out the person who she was inside i know im invisible and hard to see so i painted these pictures to show the real me are you making this up gramps is this story true lory is real – real as me real as you when grandpa had left me i cant quite be sure but i think i saw lory just outside my door\"\n",
      "}\n",
      " 9 book_dash_books|0|para_256_16_0 0.91680 {\n",
      "  \"id\" : \"book_dash_books|0|para_256_16_0\",\n",
      "  \"contents\" : \"a dancers tale the story of phyllis spira once upon a time not so far away a baby called phyllis was born for ballet two people in love her mom and her dad could not have known yet what a dancer they had when phyllis was four she had us transfixed impressing her teachers with ducky feet flicks before school and after she danced every day nothing pleased phyllis more than ballet the world would soon see when only fifteen she travelled to london to live out her dream far from home and her friends she was starting afresh the royal ballet school would soon be impressed when she danced swan lake it was fit for the queen after years pirouetting it was time to be seen she took to the stage leaping twirling about with everyone smiling they clap and they shout from mexico to canada the us to france everyone asked her to visit and dance with the royal ballet and all of her friends she spread love for dancing so it never would end still phyllis missed home theyd been too long apart she longed to return and to make a fresh start so she leaped and she bounded to her beautiful land to walk once again on south african sand dance isnt just fun as phyllis well knew she worked day and night and with hard work she grew always smiling and tireless through good times and toughshe aimed for her bestgood was never enough romeo and juliet swan lake and giselle\"\n",
      "}\n",
      "10 book_dash_books|11|para_256_16_0 0.91680 {\n",
      "  \"id\" : \"book_dash_books|11|para_256_16_0\",\n",
      "  \"contents\" : \"miss helens magical world meet my friend helen she was born in a little karoo town called nieu bethesda there was not much going on in this town but she made a whole world here she even made me and she named her house after me it was called the owl house most of helens nine brothers and sisters were grown up and gone by the time she arrived but she still had her sisters annie and alida helen didnt have many friends in the village but she didnt mind from the start helen did things differently from most people after her sisters left home helen lived alone with her parents she loved her mother but she hated her father everyone agreed he was a very strange man her big sister alida travelled all over the world one day she sent helen a postcard from egypt in her mind helen saw princes and pyramids and camels in the sand as she grew older helen read more stories of faraway places she especially liked poems from persia in the middle east she dreamed of visiting the ocean one day she kept a seashell on her bedside table and imagined she could hear the sound of waves inside it but of course owls were always her favourite things of all helen loved books and stories so much that she decided to become a teacher she was very good at it too but then she met johannes pienaar he was also a teacher and a writer and actor he\"\n",
      "}\n"
     ]
    }
   ],
   "source": [
    "from pyserini.search.lucene import LuceneSearcher\n",
    "\n",
    "searcher = LuceneSearcher(\"../solrini/server/solr/scisearch_shard1_replica_n1/data/index\")\n",
    "hits = searcher.search(\"where was barack obama born\")\n",
    "\n",
    "for i in range(len(hits)):\n",
    "    print(f\"{i+1:2} {hits[i].docid:4} {hits[i].score:.5f}\", hits[i].raw)"
   ]
  },
  {
   "cell_type": "code",
   "execution_count": 1,
   "id": "2de2d955",
   "metadata": {},
   "outputs": [],
   "source": [
    "doc = {\n",
    "    \"_id\": \"bigscience-data/roots_fr_wikipedia/2769\",\n",
    "    \"text\": \"NGC 3125\\n\\nClassification de NGC 3125\\n\\nCertaines sources considère cette galaxie comme elliptique. La base de données NASA/IPAC indique qu'il s'agit d'une galaxie spirale ou lenticulaire (S?), mais de morphologie elliptique (E?). Ces classifications sont sans doute baséee sur d'anciennes images, car NGC 3125 n'a rien d'une galaxie elliptique contenant surtout de vieilles étoiles. Les images prises par le télescope spatial Hubble montrent en effet que sa forme n'est pas définie et qu'elle ressemble même aux Nuages de Magellan tout en étant incompréhensiblement plus brillante que ces derniers. La classification de galaxie irrégulière particulière de type magellanique (Im? pec) par le professeur Seligman semble donc mieux convenir à ce que nous connaissons maintenant de cette galaxie.\\nToutefois, la base de données NASA/IPAC indique aussi que NGC 3125 est une galaxie naine bleue compacte (BCDG, Blue Compact Dwarf Galaxy), c'est-à-dire une galaxie naine contenant de grands amas stellaires composés d'étoiles jeunes, chaudes et massives donnant à l'ensemble une couleur dominante bleue. Dans la mesure où elles sont constituées d'amas, ces galaxies n'ont pas de forme définie, ce qui semble bien s'appliquer à cette galaxie.\\n\\nUne galaxie à sursaut de formation d'étoiles et une galaxie Wolf-Rayet\\n\\nS'étendant sur environ 16 000 années-lumière, NGC 3125 connait de violents sursauts de formation d'étoiles massives, comme en témoignent les jeunes étoiles bleues dispersées dans le noyau rosâtre de la galaxie. Certains de ces amas d'étoiles sont vraiment remarquable. L'un des amas les plus extrêmes d'étoiles Wolf-Rayet de notre région de l'Univers, NGC 3125-A1, se trouve dans NGC 3125 que l'on peut ainsi qualifier de galaxie de Wolf-Rayet.\\nUne récente étude a été réalisée dans les domaines de l'ultraviolet lointain et du proche infrarouge à l'aide du télescope spatial Hubble pour trois amas (A1, B1 et B2) présents dans cette galaxie. L'âge estimé de ces amas se situe entre 3 et 4 millions d'années et leur masse est respectivement de 1,7 x 10⁵ , 1,4 x 10⁵  et 1,1 x 10⁵ . La proportion d'étoiles Wolf-Rayet à celle d'étoiles de type O est de 0,23 et de 0,10, une proportion rarement vu dans d'autres galaxies. On retrouve dans l'amas A1 des étoiles extrêmement massive dont la masse dépasserait 120 .\\nMalgré leur apparence sur l'image prise par le télescope spatial Hubble, les points blancs flous autour de la galaxie ne sont pas des étoiles, mais des amas globulaires. Ces amas sont constitués d'anciennes étoiles et ils peuplent le halo de NGC 3125. Ils sont en orbite autour de la galaxie, comme les quelques 150 que compte la Voie lactée.\",\n",
    "    \"title\": None,\n",
    "    \"language\": \"en\",\n",
    "    \"meta\": {\"wikidata_id\": b\"Q1103046\"},\n",
    "    \"segmentations\": {\"para_256_16\": [(0, 1690), (1589, 2659)]},\n",
    "}"
   ]
  },
  {
   "cell_type": "code",
   "execution_count": 4,
   "id": "23ba3497",
   "metadata": {},
   "outputs": [],
   "source": [
    "from pprint import pprint"
   ]
  },
  {
   "cell_type": "code",
   "execution_count": 5,
   "id": "669dd67c",
   "metadata": {},
   "outputs": [
    {
     "name": "stdout",
     "output_type": "stream",
     "text": [
      "{'_id': 'bigscience-data/roots_fr_wikipedia/2769',\n",
      " 'language': 'en',\n",
      " 'meta': {'wikidata_id': b'Q1103046'},\n",
      " 'segmentations': {'para_256_16': [(0, 1690), (1589, 2659)]},\n",
      " 'text': 'NGC 3125\\n'\n",
      "         '\\n'\n",
      "         'Classification de NGC 3125\\n'\n",
      "         '\\n'\n",
      "         'Certaines sources considère cette galaxie comme elliptique. La base '\n",
      "         \"de données NASA/IPAC indique qu'il s'agit d'une galaxie spirale ou \"\n",
      "         'lenticulaire (S?), mais de morphologie elliptique (E?). Ces '\n",
      "         \"classifications sont sans doute baséee sur d'anciennes images, car \"\n",
      "         \"NGC 3125 n'a rien d'une galaxie elliptique contenant surtout de \"\n",
      "         'vieilles étoiles. Les images prises par le télescope spatial Hubble '\n",
      "         \"montrent en effet que sa forme n'est pas définie et qu'elle \"\n",
      "         'ressemble même aux Nuages de Magellan tout en étant '\n",
      "         'incompréhensiblement plus brillante que ces derniers. La '\n",
      "         'classification de galaxie irrégulière particulière de type '\n",
      "         'magellanique (Im? pec) par le professeur Seligman semble donc mieux '\n",
      "         'convenir à ce que nous connaissons maintenant de cette galaxie.\\n'\n",
      "         'Toutefois, la base de données NASA/IPAC indique aussi que NGC 3125 '\n",
      "         'est une galaxie naine bleue compacte (BCDG, Blue Compact Dwarf '\n",
      "         \"Galaxy), c'est-à-dire une galaxie naine contenant de grands amas \"\n",
      "         \"stellaires composés d'étoiles jeunes, chaudes et massives donnant à \"\n",
      "         \"l'ensemble une couleur dominante bleue. Dans la mesure où elles sont \"\n",
      "         \"constituées d'amas, ces galaxies n'ont pas de forme définie, ce qui \"\n",
      "         \"semble bien s'appliquer à cette galaxie.\\n\"\n",
      "         '\\n'\n",
      "         \"Une galaxie à sursaut de formation d'étoiles et une galaxie \"\n",
      "         'Wolf-Rayet\\n'\n",
      "         '\\n'\n",
      "         \"S'étendant sur environ 16 000 années-lumière, NGC 3125 connait de \"\n",
      "         \"violents sursauts de formation d'étoiles massives, comme en \"\n",
      "         'témoignent les jeunes étoiles bleues dispersées dans le noyau '\n",
      "         \"rosâtre de la galaxie. Certains de ces amas d'étoiles sont vraiment \"\n",
      "         \"remarquable. L'un des amas les plus extrêmes d'étoiles Wolf-Rayet de \"\n",
      "         \"notre région de l'Univers, NGC 3125-A1, se trouve dans NGC 3125 que \"\n",
      "         \"l'on peut ainsi qualifier de galaxie de Wolf-Rayet.\\n\"\n",
      "         \"Une récente étude a été réalisée dans les domaines de l'ultraviolet \"\n",
      "         \"lointain et du proche infrarouge à l'aide du télescope spatial \"\n",
      "         'Hubble pour trois amas (A1, B1 et B2) présents dans cette galaxie. '\n",
      "         \"L'âge estimé de ces amas se situe entre 3 et 4 millions d'années et \"\n",
      "         'leur masse est respectivement de 1,7 x 10⁵ , 1,4 x 10⁵  et 1,1 x 10⁵ '\n",
      "         \". La proportion d'étoiles Wolf-Rayet à celle d'étoiles de type O est \"\n",
      "         \"de 0,23 et de 0,10, une proportion rarement vu dans d'autres \"\n",
      "         \"galaxies. On retrouve dans l'amas A1 des étoiles extrêmement massive \"\n",
      "         'dont la masse dépasserait 120 .\\n'\n",
      "         \"Malgré leur apparence sur l'image prise par le télescope spatial \"\n",
      "         'Hubble, les points blancs flous autour de la galaxie ne sont pas des '\n",
      "         'étoiles, mais des amas globulaires. Ces amas sont constitués '\n",
      "         \"d'anciennes étoiles et ils peuplent le halo de NGC 3125. Ils sont en \"\n",
      "         'orbite autour de la galaxie, comme les quelques 150 que compte la '\n",
      "         'Voie lactée.',\n",
      " 'title': None}\n"
     ]
    }
   ],
   "source": [
    "pprint(doc)"
   ]
  },
  {
   "cell_type": "code",
   "execution_count": 6,
   "id": "87791134",
   "metadata": {},
   "outputs": [],
   "source": [
    "import json"
   ]
  },
  {
   "cell_type": "code",
   "execution_count": 27,
   "id": "e1f356be",
   "metadata": {},
   "outputs": [
    {
     "name": "stdout",
     "output_type": "stream",
     "text": [
      "bytes\n",
      "b'Q1103046'\n",
      "b'Q1103046'\n",
      "Q1103046\n"
     ]
    }
   ],
   "source": [
    "if isinstance(doc[\"meta\"][\"wikidata_id\"], bytes):\n",
    "    print(\"bytes\")\n",
    "    print(doc[\"meta\"][\"wikidata_id\"])\n",
    "    print(str(doc[\"meta\"][\"wikidata_id\"]))\n",
    "    print(doc[\"meta\"][\"wikidata_id\"].decode(\"utf-8\"))"
   ]
  },
  {
   "cell_type": "code",
   "execution_count": 15,
   "id": "d8f0d083",
   "metadata": {},
   "outputs": [],
   "source": [
    "j = json.dumps(str(doc[\"meta\"]))"
   ]
  },
  {
   "cell_type": "code",
   "execution_count": 16,
   "id": "8b024b0f",
   "metadata": {},
   "outputs": [
    {
     "data": {
      "text/plain": [
       "'\"{\\'wikidata_id\\': b\\'Q1103046\\'}\"'"
      ]
     },
     "execution_count": 16,
     "metadata": {},
     "output_type": "execute_result"
    }
   ],
   "source": [
    "j"
   ]
  },
  {
   "cell_type": "code",
   "execution_count": 11,
   "id": "41bb18f0",
   "metadata": {},
   "outputs": [],
   "source": [
    "from datasets import load_from_disk"
   ]
  },
  {
   "cell_type": "code",
   "execution_count": 13,
   "id": "529ed813",
   "metadata": {},
   "outputs": [],
   "source": [
    "ds = load_from_disk(\"../data/bigscience-data/roots_eu_wikipedia\")"
   ]
  },
  {
   "cell_type": "code",
   "execution_count": 14,
   "id": "8900d7b6",
   "metadata": {},
   "outputs": [
    {
     "data": {
      "text/plain": [
       "DatasetDict({\n",
       "    train: Dataset({\n",
       "        features: ['text', 'meta'],\n",
       "        num_rows: 474524\n",
       "    })\n",
       "})"
      ]
     },
     "execution_count": 14,
     "metadata": {},
     "output_type": "execute_result"
    }
   ],
   "source": [
    "ds"
   ]
  },
  {
   "cell_type": "code",
   "execution_count": 28,
   "id": "c9f953c2",
   "metadata": {},
   "outputs": [],
   "source": [
    "def utf8len(s):\n",
    "    return len(s.encode(\"utf-8\"))"
   ]
  },
  {
   "cell_type": "code",
   "execution_count": 29,
   "id": "4d2608e7",
   "metadata": {},
   "outputs": [
    {
     "data": {
      "text/plain": [
       "3"
      ]
     },
     "execution_count": 29,
     "metadata": {},
     "output_type": "execute_result"
    }
   ],
   "source": [
    "utf8len(\"ola\")"
   ]
  },
  {
   "cell_type": "code",
   "execution_count": 30,
   "id": "e9b61768",
   "metadata": {},
   "outputs": [
    {
     "data": {
      "text/plain": [
       "4"
      ]
     },
     "execution_count": 30,
     "metadata": {},
     "output_type": "execute_result"
    }
   ],
   "source": [
    "utf8len(\"🤗\")"
   ]
  },
  {
   "cell_type": "code",
   "execution_count": 31,
   "id": "7f43e451",
   "metadata": {},
   "outputs": [
    {
     "data": {
      "text/plain": [
       "12"
      ]
     },
     "execution_count": 31,
     "metadata": {},
     "output_type": "execute_result"
    }
   ],
   "source": [
    "utf8len(\"收发短信\")"
   ]
  },
  {
   "cell_type": "code",
   "execution_count": 32,
   "id": "65a5da36",
   "metadata": {},
   "outputs": [
    {
     "data": {
      "text/plain": [
       "1327"
      ]
     },
     "execution_count": 32,
     "metadata": {},
     "output_type": "execute_result"
    }
   ],
   "source": [
    "utf8len(\n",
    "    \"miss helens magical world meet my friend helen she was born in a little karoo town called nieu bethesda there was not much going on in this town but she made a whole world here she even made me and she named her house after me it was called the owl house most of helens nine brothers and sisters were grown up and gone by the time she arrived but she still had her sisters annie and alida helen didnt have many friends in the village but she didnt mind from the start helen did things differently from most people after her sisters left home helen lived alone with her parents she loved her mother but she hated her father everyone agreed he was a very strange man her big sister alida travelled all over the world one day she sent helen a postcard from egypt in her mind helen saw princes and pyramids and camels in the sand as she grew older helen read more stories of faraway places she especially liked poems from persia in the middle east she dreamed of visiting the ocean one day she kept a seashell on her bedside table and imagined she could hear the sound of waves inside it but of course owls were always her favourite things of all helen loved books and stories so much that she decided to become a teacher she was very good at it too but then she met johannes pienaar he was also a teacher and a writer and actor he\"\n",
    ")"
   ]
  },
  {
   "cell_type": "code",
   "execution_count": 18,
   "id": "31bc48b9",
   "metadata": {},
   "outputs": [
    {
     "name": "stdout",
     "output_type": "stream",
     "text": [
      " 1 bigscience-data/roots_en_oscar/43510291?seg=para_256_16&seg_id=1 17.19019 the world has ever witnessed, making national news by slamming Donald Trump on Thursday, September 15, 2016, for declining to answer a question about where President Barack Obama was born, as if the most important issue facing this nation today was not about ISIS, or when we are ever going to get out of Afghanistnam, or our $20 TRILLION national debt, but instead is “where was Barack Obama born?”\n",
      "“When will he stop this ugliness, this bigotry?” Hillary ranted and pouted at The Congressional Hispanic Caucus Institute awards gala in Washington, D.C. because Trump would not tell her where Barack Obama was born, as if Trump had been there as a witness to record the momentous event, and as if not considering where Barack Obama was born was really a worthy topic of debate between two presidential candidates in America today, neither of whom is named Obama, constitutes bigotry, which is defined as “intolerance toward those who hold different opinions from oneself.”\n",
      "Does the fact that Donald Trump doesn’t see it worth the while of we, the American people, to have listen to a silly debate between himself and Hillary Clinton on the question of where Barack Obama was born really qualify as “intolerance toward those who hold different opinions from oneself,” or is the charge of bigotry made by Hillary Clinton simply patently stupid?\n",
      "Are there more important things for two presidential candidates in this country to debate about than where Barack Obama was born?\n"
     ]
    }
   ],
   "source": [
    "import ast\n",
    "from pyserini.search.lucene import LuceneSearcher\n",
    "\n",
    "searcher = LuceneSearcher(\"/home/piktus_huggingface_co/bigscience/scisearch/data/bigscience-data-index/en/\")\n",
    "hits = searcher.search(\"where was barack obama born\", k=100)\n",
    "\n",
    "for i in range(len(hits)):\n",
    "    print(f\"{i+1:2} {hits[i].docid:4} {hits[i].score:.5f}\", ast.literal_eval(hits[i].raw)[\"contents\"])\n",
    "    break"
   ]
  },
  {
   "cell_type": "code",
   "execution_count": null,
   "id": "5f5f723c",
   "metadata": {},
   "outputs": [],
   "source": []
  },
  {
   "cell_type": "code",
   "execution_count": 4,
   "id": "7fb22453",
   "metadata": {},
   "outputs": [],
   "source": [
    "from pyserini.search.lucene import LuceneSearcher\n",
    "\n",
    "searcher = LuceneSearcher(\"/home/piktus_huggingface_co/roots-search-tool/data/bigscience-data-index-128/fr/\")"
   ]
  },
  {
   "cell_type": "code",
   "execution_count": 17,
   "id": "328b2f23",
   "metadata": {},
   "outputs": [
    {
     "name": "stdout",
     "output_type": "stream",
     "text": [
      " 1 bigscience-data/roots_fr_hal_archives_ouvertes/281212?seg=para_128_8&seg_id=104 6.85685\n",
      " 2 bigscience-data/roots_fr_hal_archives_ouvertes/281212?seg=para_128_8&seg_id=103 6.82984\n",
      " 3 bigscience-data/roots_fr_oscar/21218727?seg=para_128_8&seg_id=0 6.82724\n",
      " 4 bigscience-data/roots_fr_oscar/22329926?seg=para_128_8&seg_id=1 6.80311\n",
      " 5 bigscience-data/roots_fr_oscar/29444133?seg=para_128_8&seg_id=0 6.74829\n",
      " 6 bigscience-data/roots_fr_wiktionary/17616?seg=para_128_8&seg_id=6 6.74232\n",
      " 7 bigscience-data/roots_fr_oscar/12387255?seg=para_128_8&seg_id=0 6.74152\n",
      " 8 bigscience-data/roots_fr_oscar/27708105?seg=para_128_8&seg_id=12 6.71220\n",
      " 9 bigscience-data/roots_fr_oscar/51774775?seg=para_128_8&seg_id=4 6.71220\n",
      "10 bigscience-data/roots_fr_oscar/17190491?seg=para_128_8&seg_id=20 6.69400\n"
     ]
    }
   ],
   "source": [
    "# searcher.set_rm3(debug=True)\n",
    "hits = searcher.search(\"hubble space telescope\")\n",
    "\n",
    "for i in range(0, 10):\n",
    "    print(f\"{i+1:2} {hits[i].docid:7} {hits[i].score:.5f}\")"
   ]
  },
  {
   "cell_type": "code",
   "execution_count": 19,
   "id": "3bc054a7",
   "metadata": {},
   "outputs": [
    {
     "name": "stdout",
     "output_type": "stream",
     "text": [
      "None\n"
     ]
    }
   ],
   "source": [
    "feedback_terms = searcher.get_feedback_terms(\"hubble space telescope\")\n",
    "print(feedback_terms)"
   ]
  },
  {
   "cell_type": "code",
   "execution_count": 15,
   "id": "0730401f",
   "metadata": {},
   "outputs": [
    {
     "name": "stdout",
     "output_type": "stream",
     "text": [
      "2022-10-19 14:41:28,984 INFO  [main] lib.RocchioReranker (RocchioReranker.java:137) - QID: null\n",
      "2022-10-19 14:41:28,986 INFO  [main] lib.RocchioReranker (RocchioReranker.java:138) - Original Query: (telescop)^1.0 (space)^1.0 (hubbl)^1.0\n",
      "2022-10-19 14:41:28,987 INFO  [main] lib.RocchioReranker (RocchioReranker.java:139) - Feedback Query: (hubbl)^0.57735026 (space)^0.57735026 (observatoir)^0.036785178 (cm)^0.046051666 (refrac)^0.06818659 (reflec)^0.039417684 (observatory)^0.04371159 (700)^0.039104935 (telescop)^1.3115287 (tail)^0.05889792 (haie)^0.05889792 (astronom)^0.05854191\n",
      "2022-10-19 14:41:28,987 INFO  [main] lib.RocchioReranker (RocchioReranker.java:140) - Feedback term: reflec -> 0.039417684\n",
      "2022-10-19 14:41:28,987 INFO  [main] lib.RocchioReranker (RocchioReranker.java:140) - Feedback term: observatory -> 0.04371159\n",
      "2022-10-19 14:41:28,987 INFO  [main] lib.RocchioReranker (RocchioReranker.java:140) - Feedback term: telescop -> 1.3115287\n",
      "2022-10-19 14:41:28,987 INFO  [main] lib.RocchioReranker (RocchioReranker.java:140) - Feedback term: haie -> 0.05889792\n",
      "2022-10-19 14:41:28,987 INFO  [main] lib.RocchioReranker (RocchioReranker.java:140) - Feedback term: observatoir -> 0.036785178\n",
      "2022-10-19 14:41:28,988 INFO  [main] lib.RocchioReranker (RocchioReranker.java:140) - Feedback term: refrac -> 0.06818659\n",
      "2022-10-19 14:41:28,988 INFO  [main] lib.RocchioReranker (RocchioReranker.java:140) - Feedback term: tail -> 0.05889792\n",
      "2022-10-19 14:41:28,988 INFO  [main] lib.RocchioReranker (RocchioReranker.java:140) - Feedback term: astronom -> 0.05854191\n",
      "2022-10-19 14:41:28,988 INFO  [main] lib.RocchioReranker (RocchioReranker.java:140) - Feedback term: 700 -> 0.039104935\n",
      "2022-10-19 14:41:28,988 INFO  [main] lib.RocchioReranker (RocchioReranker.java:140) - Feedback term: cm -> 0.046051666\n",
      "2022-10-19 14:41:28,988 INFO  [main] lib.RocchioReranker (RocchioReranker.java:140) - Feedback term: space -> 0.57735026\n",
      "2022-10-19 14:41:28,988 INFO  [main] lib.RocchioReranker (RocchioReranker.java:140) - Feedback term: hubbl -> 0.57735026\n",
      " 1 bigscience-data/roots_fr_hal_archives_ouvertes/281212?seg=para_128_8&seg_id=104 10.93574\n",
      " 2 bigscience-data/roots_fr_hal_archives_ouvertes/281212?seg=para_128_8&seg_id=103 10.77309\n",
      " 3 bigscience-data/roots_fr_hal_archives_ouvertes/281212?seg=para_128_8&seg_id=105 10.17373\n",
      " 4 bigscience-data/roots_fr_hal_archives_ouvertes/281212?seg=para_128_8&seg_id=102 10.06662\n",
      " 5 bigscience-data/roots_fr_oscar/27708105?seg=para_128_8&seg_id=12 9.41235\n",
      " 6 bigscience-data/roots_fr_oscar/16954518?seg=para_128_8&seg_id=1 9.28932\n",
      " 7 bigscience-data/roots_fr_oscar/12387255?seg=para_128_8&seg_id=0 9.19118\n",
      " 8 bigscience-data/roots_fr_oscar/51774775?seg=para_128_8&seg_id=4 9.18367\n",
      " 9 bigscience-data/roots_fr_oscar/29444133?seg=para_128_8&seg_id=0 9.16477\n",
      "10 bigscience-data/roots_fr_oscar/22387111?seg=para_128_8&seg_id=5 9.16223\n",
      "2022-10-19 14:41:29,656 INFO  [main] lib.RocchioReranker (RocchioReranker.java:137) - QID: null\n",
      "2022-10-19 14:41:29,657 INFO  [main] lib.RocchioReranker (RocchioReranker.java:138) - Original Query: (telescop)^1.0 (space)^1.0 (hubbl)^1.0\n",
      "2022-10-19 14:41:29,657 INFO  [main] lib.RocchioReranker (RocchioReranker.java:139) - Feedback Query: (hubbl)^0.57735026 (space)^0.57735026 (observatoir)^0.036785178 (cm)^0.046051666 (refrac)^0.06818659 (reflec)^0.039417684 (observatory)^0.04371159 (700)^0.039104935 (telescop)^1.3115287 (tail)^0.05889792 (haie)^0.05889792 (astronom)^0.05854191\n",
      "2022-10-19 14:41:29,657 INFO  [main] lib.RocchioReranker (RocchioReranker.java:140) - Feedback term: reflec -> 0.039417684\n",
      "2022-10-19 14:41:29,658 INFO  [main] lib.RocchioReranker (RocchioReranker.java:140) - Feedback term: observatory -> 0.04371159\n",
      "2022-10-19 14:41:29,658 INFO  [main] lib.RocchioReranker (RocchioReranker.java:140) - Feedback term: telescop -> 1.3115287\n",
      "2022-10-19 14:41:29,658 INFO  [main] lib.RocchioReranker (RocchioReranker.java:140) - Feedback term: haie -> 0.05889792\n",
      "2022-10-19 14:41:29,658 INFO  [main] lib.RocchioReranker (RocchioReranker.java:140) - Feedback term: observatoir -> 0.036785178\n",
      "2022-10-19 14:41:29,658 INFO  [main] lib.RocchioReranker (RocchioReranker.java:140) - Feedback term: refrac -> 0.06818659\n",
      "2022-10-19 14:41:29,658 INFO  [main] lib.RocchioReranker (RocchioReranker.java:140) - Feedback term: tail -> 0.05889792\n",
      "2022-10-19 14:41:29,658 INFO  [main] lib.RocchioReranker (RocchioReranker.java:140) - Feedback term: astronom -> 0.05854191\n",
      "2022-10-19 14:41:29,658 INFO  [main] lib.RocchioReranker (RocchioReranker.java:140) - Feedback term: 700 -> 0.039104935\n",
      "2022-10-19 14:41:29,659 INFO  [main] lib.RocchioReranker (RocchioReranker.java:140) - Feedback term: cm -> 0.046051666\n",
      "2022-10-19 14:41:29,659 INFO  [main] lib.RocchioReranker (RocchioReranker.java:140) - Feedback term: space -> 0.57735026\n",
      "2022-10-19 14:41:29,659 INFO  [main] lib.RocchioReranker (RocchioReranker.java:140) - Feedback term: hubbl -> 0.57735026\n"
     ]
    }
   ],
   "source": [
    "# Rocchio\n",
    "searcher.set_rocchio(debug=True)\n",
    "hits = searcher.search(\"hubble space telescope\")\n",
    "\n",
    "for i in range(0, 10):\n",
    "    print(f\"{i+1:2} {hits[i].docid:7} {hits[i].score:.5f}\")\n",
    "\n",
    "feedback_terms = searcher.get_feedback_terms(\"hubble space telescope\")"
   ]
  },
  {
   "cell_type": "code",
   "execution_count": 6,
   "id": "2a8b4a54",
   "metadata": {},
   "outputs": [
    {
     "name": "stdout",
     "output_type": "stream",
     "text": [
      "[]\n"
     ]
    }
   ],
   "source": [
    "from pyserini.analysis import Analyzer, get_lucene_analyzer\n",
    "\n",
    "# Default analyzer for English uses the Porter stemmer:\n",
    "analyzer = Analyzer(get_lucene_analyzer())\n",
    "tokens = analyzer.analyze(\"is\")\n",
    "print(tokens)\n",
    "# Result is ['citi', 'buse', 'run', 'time']"
   ]
  },
  {
   "cell_type": "code",
   "execution_count": 32,
   "id": "fa7555fb",
   "metadata": {},
   "outputs": [],
   "source": [
    "a = set({1, 2, 3})\n",
    "b = set({3, 4, 5})\n",
    "c = set({6})"
   ]
  },
  {
   "cell_type": "code",
   "execution_count": 33,
   "id": "9eaa49fa",
   "metadata": {},
   "outputs": [
    {
     "data": {
      "text/plain": [
       "{3}"
      ]
     },
     "execution_count": 33,
     "metadata": {},
     "output_type": "execute_result"
    }
   ],
   "source": [
    "a & b"
   ]
  },
  {
   "cell_type": "code",
   "execution_count": 34,
   "id": "797fdbad",
   "metadata": {},
   "outputs": [
    {
     "data": {
      "text/plain": [
       "set()"
      ]
     },
     "execution_count": 34,
     "metadata": {},
     "output_type": "execute_result"
    }
   ],
   "source": [
    "a & c"
   ]
  },
  {
   "cell_type": "code",
   "execution_count": 35,
   "id": "819917ab",
   "metadata": {},
   "outputs": [
    {
     "ename": "AttributeError",
     "evalue": "'Analyzer' object has no attribute 'get_stopwords'",
     "output_type": "error",
     "traceback": [
      "\u001b[0;31m---------------------------------------------------------------------------\u001b[0m",
      "\u001b[0;31mAttributeError\u001b[0m                            Traceback (most recent call last)",
      "Input \u001b[0;32mIn [35]\u001b[0m, in \u001b[0;36m<cell line: 1>\u001b[0;34m()\u001b[0m\n\u001b[0;32m----> 1\u001b[0m \u001b[43manalyzer\u001b[49m\u001b[38;5;241;43m.\u001b[39;49m\u001b[43mget_stopwords\u001b[49m()\n",
      "\u001b[0;31mAttributeError\u001b[0m: 'Analyzer' object has no attribute 'get_stopwords'"
     ]
    }
   ],
   "source": [
    "analyzer.get_stopwords()"
   ]
  },
  {
   "cell_type": "code",
   "execution_count": 36,
   "id": "9ac041f7",
   "metadata": {},
   "outputs": [],
   "source": [
    "import unicodedata"
   ]
  },
  {
   "cell_type": "code",
   "execution_count": 43,
   "id": "79ddfbb0",
   "metadata": {},
   "outputs": [
    {
     "ename": "ModuleNotFoundError",
     "evalue": "No module named 'unidecode'",
     "output_type": "error",
     "traceback": [
      "\u001b[0;31m---------------------------------------------------------------------------\u001b[0m",
      "\u001b[0;31mModuleNotFoundError\u001b[0m                       Traceback (most recent call last)",
      "Input \u001b[0;32mIn [43]\u001b[0m, in \u001b[0;36m<cell line: 1>\u001b[0;34m()\u001b[0m\n\u001b[0;32m----> 1\u001b[0m \u001b[38;5;28;01mimport\u001b[39;00m \u001b[38;5;21;01munidecode\u001b[39;00m\n\u001b[1;32m      2\u001b[0m unidecode(\u001b[38;5;124m\"\u001b[39m\u001b[38;5;124mcapità\u001b[39m\u001b[38;5;124m\"\u001b[39m)\n",
      "\u001b[0;31mModuleNotFoundError\u001b[0m: No module named 'unidecode'"
     ]
    }
   ],
   "source": [
    "import unidecode\n",
    "\n",
    "unidecode(\"capità\")"
   ]
  },
  {
   "cell_type": "code",
   "execution_count": 1,
   "id": "6ad38bdb",
   "metadata": {},
   "outputs": [],
   "source": [
    "from pyserini.index.lucene import IndexReader\n",
    "\n",
    "# Initialize from an index path:\n",
    "index_reader = IndexReader(\"/home/piktus_huggingface_co/bigscience/scisearch/data/bigscience-data-index/zh/\")"
   ]
  },
  {
   "cell_type": "code",
   "execution_count": 2,
   "id": "ab21d920",
   "metadata": {},
   "outputs": [
    {
     "data": {
      "text/plain": [
       "{'total_terms': 71589563586,\n",
       " 'documents': 111284681,\n",
       " 'non_empty_documents': 111279561,\n",
       " 'unique_terms': -1}"
      ]
     },
     "execution_count": 2,
     "metadata": {},
     "output_type": "execute_result"
    }
   ],
   "source": [
    "index_reader.stats()"
   ]
  },
  {
   "cell_type": "code",
   "execution_count": 5,
   "id": "96877cd7",
   "metadata": {},
   "outputs": [],
   "source": [
    "from pyserini.index.lucene import IndexReader\n",
    "from pyserini.analysis import Analyzer\n",
    "\n",
    "# Initialize from an index path:\n",
    "index_reader = IndexReader(\"/home/piktus_huggingface_co/roots-search-tool/data/bigscience-data-index-128/en/\")\n",
    "en_analyzer = Analyzer(get_lucene_analyzer())"
   ]
  },
  {
   "cell_type": "code",
   "execution_count": 15,
   "id": "7d131138",
   "metadata": {},
   "outputs": [
    {
     "data": {
      "text/plain": [
       "{'de': 1,\n",
       " 'govern': 3,\n",
       " 'liberti': 1,\n",
       " 'nation': 6,\n",
       " 'year': 1,\n",
       " 'british': 1,\n",
       " 'had': 2,\n",
       " 'upon': 1,\n",
       " 'assembl': 1,\n",
       " 'parti': 1,\n",
       " 'put': 1,\n",
       " 'influenc': 1,\n",
       " 'thirti': 1,\n",
       " 'act': 2,\n",
       " 'would': 2,\n",
       " 'find': 1,\n",
       " 'commun': 1,\n",
       " 'state': 1,\n",
       " 'champ': 1,\n",
       " 'between': 1,\n",
       " 'french': 2,\n",
       " 'those': 1,\n",
       " 'all': 1,\n",
       " 'which': 1,\n",
       " 'dispos': 1,\n",
       " 'extravag': 1,\n",
       " 'turmoil': 1,\n",
       " 'ill': 1,\n",
       " 'onli': 2,\n",
       " 'it': 1,\n",
       " 'respect': 1,\n",
       " 'both': 1,\n",
       " 'constitut': 1,\n",
       " 'adopt': 1,\n",
       " 'were': 3,\n",
       " 'support': 1,\n",
       " 'hundr': 1,\n",
       " 'behind': 1,\n",
       " 'other': 1,\n",
       " 'britain': 3,\n",
       " 'import': 1,\n",
       " 'against': 1,\n",
       " 'idea': 1,\n",
       " 'soil': 1,\n",
       " 'two': 1,\n",
       " 'mai': 1,\n",
       " 'defend': 1,\n",
       " 'now': 1,\n",
       " 'franc': 4,\n",
       " 'end': 1,\n",
       " 'speak': 1,\n",
       " 'capit': 1,\n",
       " 'on': 2,\n",
       " 'europ': 1,\n",
       " 'accumul': 1,\n",
       " 'could': 1,\n",
       " 'more': 1,\n",
       " 'polit': 1,\n",
       " 'accord': 1,\n",
       " 'embark': 1,\n",
       " 'contin': 1,\n",
       " 'parliamentari': 1,\n",
       " 'despot': 1,\n",
       " 'union': 1,\n",
       " 'trade': 1,\n",
       " 'fertil': 1,\n",
       " 'complementari': 1}"
      ]
     },
     "execution_count": 15,
     "metadata": {},
     "output_type": "execute_result"
    }
   ],
   "source": [
    "bm25 = index_reader.get_document_vector('bigscience-data/roots_en_s2orc_ai2_pdf_parses/2689513?seg=para_128_8&seg_id=38')\n",
    "bm25"
   ]
  },
  {
   "cell_type": "code",
   "execution_count": 21,
   "id": "cbbdee29",
   "metadata": {},
   "outputs": [
    {
     "name": "stdout",
     "output_type": "stream",
     "text": [
      "1.046473741531372\n"
     ]
    }
   ],
   "source": [
    "bm25_score = index_reader.compute_bm25_term_weight('bigscience-data/roots_en_s2orc_ai2_pdf_parses/2689513?seg=para_128_8&seg_id=38', 'two nations were in one respect complementary')\n",
    "print(bm25_score)"
   ]
  },
  {
   "cell_type": "code",
   "execution_count": 19,
   "id": "88f82495",
   "metadata": {},
   "outputs": [
    {
     "name": "stdout",
     "output_type": "stream",
     "text": [
      " 1 bigscience-data/roots_en_s2orc_ai2_pdf_parses/5083142?seg=para_128_8&seg_id=16 11.46470\n",
      "{'id': 'bigscience-data/roots_en_s2orc_ai2_pdf_parses/5083142?seg=para_128_8&seg_id=16', 'contents': 'American Hispanics were much more likely to use vitamins (adjusted odds ratios 3.1 and 2.6, respectively). Income was the only other significant variable; compared to those in the lowest income category, those in the next two highest were more likely to use vitamins (Table 3) .\\nDiscussion\\nThis is one of the first national studies reporting complementary and alternative medicine use specifically among young adults. Almost 30% of adults aged 18-27 years in 2001-2002 used some type of complementary and alternative medicine in the past 12 months. This percentage is comparable to other contemporaneous estimates of prevalence of use for adults of all ages. 2, 7, 44 In 2002, 33% and by 2007, 36% of 18-to 29year-olds used complementary and alternative medicine based on the National Health Interview ', 'meta': {'paper_id': '37011772', '_pdf_hash': 'd6f5a88ade6938deaf6bd7d31882b63b1dda72e1'}}\n",
      " 2 bigscience-data/roots_en_s2orc_ai2_pdf_parses/9115053?seg=para_128_8&seg_id=3 11.23050\n",
      "{'id': 'bigscience-data/roots_en_s2orc_ai2_pdf_parses/9115053?seg=para_128_8&seg_id=3', 'contents': 'the Traditional Chinese Medicine/Acupuncture, Homeopathy, Medicinal Plants and Herbal Medicines [17] , named Complementary and Integrative Practices in Brazil (or PIC, in Portuguese) . In 2017 and 2018, two new National Ordinances (MS 849/ 2017 and MS 702/2018) were released, which included new complementary medicine therapies into the National Policy for Complementary and Integrative Practices (or PNPIC, in Portuguese), expanding the use of these services and aiming the safe, respectful, equitable and effective access to those practices by the population that relies only on SUS [18] . Complementary medicine is an important practice and the prevalence of its use remains unknown within the health care system of the country, even with efforts to consolidate and broaden the scope of National Policy for Complementary and Integrative Practices [19] .\\n', 'meta': {'paper_id': '211102901', '_pdf_hash': '46eb5e5db8f1765db0f7a7152aa06e87dc81cedd'}}\n",
      " 3 bigscience-data/roots_en_s2orc_ai2_pdf_parses/2689513?seg=para_128_8&seg_id=38 11.05530\n",
      "{'id': 'bigscience-data/roots_en_s2orc_ai2_pdf_parses/2689513?seg=para_128_8&seg_id=38', 'contents': 'union would put an end to French turmoil and ills. The two nations were in one respect complementary: Britain had at its disposal accumulated trade capital, France a fertile soil. More important was their community of political ideas. Britain had behind it one hundred and thirty years of the parliamentary government upon which the French were now embarking; the constitutional party in France would find in the British nation support against both the defenders of despotism and those of an extravagant liberty. France was the only nation on the continent of Europe, all the other states were only governments; between France and Britain nation could speak to nation and influence the governments to act according to the national will. Assembly of the Champ de Mai adopted the Acte ', 'meta': {'paper_id': '3270766', '_pdf_hash': 'fa11e12404f4be3f3b8ff98ecc0248195e048fcd'}}\n"
     ]
    }
   ],
   "source": [
    "from pyserini.search.lucene import LuceneSearcher\n",
    "searcher = LuceneSearcher(\"/home/piktus_huggingface_co/roots-search-tool/data/bigscience-data-index-128/en/\")\n",
    "from pyserini.search.lucene import querybuilder\n",
    "import json\n",
    "\n",
    "query = querybuilder.get_complex_phrase_query('two nations were in one respect complementary')\n",
    "hits = searcher.search(query)\n",
    "for i in range(0, 3):\n",
    "    print(f'{i+1:2} {hits[i].docid:15} {hits[i].score:.5f}')\n",
    "    raw = json.loads(hits[i].raw)\n",
    "    print(raw)"
   ]
  },
  {
   "cell_type": "code",
   "execution_count": 16,
   "id": "f66920e9",
   "metadata": {},
   "outputs": [
    {
     "name": "stdout",
     "output_type": "stream",
     "text": [
      " 1 bigscience-data/roots_en_s2orc_ai2_pdf_parses/5083142?seg=para_128_8&seg_id=16 11.46470\n",
      "{'id': 'bigscience-data/roots_en_s2orc_ai2_pdf_parses/5083142?seg=para_128_8&seg_id=16', 'contents': 'American Hispanics were much more likely to use vitamins (adjusted odds ratios 3.1 and 2.6, respectively). Income was the only other significant variable; compared to those in the lowest income category, those in the next two highest were more likely to use vitamins (Table 3) .\\nDiscussion\\nThis is one of the first national studies reporting complementary and alternative medicine use specifically among young adults. Almost 30% of adults aged 18-27 years in 2001-2002 used some type of complementary and alternative medicine in the past 12 months. This percentage is comparable to other contemporaneous estimates of prevalence of use for adults of all ages. 2, 7, 44 In 2002, 33% and by 2007, 36% of 18-to 29year-olds used complementary and alternative medicine based on the National Health Interview ', 'meta': {'paper_id': '37011772', '_pdf_hash': 'd6f5a88ade6938deaf6bd7d31882b63b1dda72e1'}}\n",
      " 2 bigscience-data/roots_en_s2orc_ai2_pdf_parses/9115053?seg=para_128_8&seg_id=3 11.23050\n",
      "{'id': 'bigscience-data/roots_en_s2orc_ai2_pdf_parses/9115053?seg=para_128_8&seg_id=3', 'contents': 'the Traditional Chinese Medicine/Acupuncture, Homeopathy, Medicinal Plants and Herbal Medicines [17] , named Complementary and Integrative Practices in Brazil (or PIC, in Portuguese) . In 2017 and 2018, two new National Ordinances (MS 849/ 2017 and MS 702/2018) were released, which included new complementary medicine therapies into the National Policy for Complementary and Integrative Practices (or PNPIC, in Portuguese), expanding the use of these services and aiming the safe, respectful, equitable and effective access to those practices by the population that relies only on SUS [18] . Complementary medicine is an important practice and the prevalence of its use remains unknown within the health care system of the country, even with efforts to consolidate and broaden the scope of National Policy for Complementary and Integrative Practices [19] .\\n', 'meta': {'paper_id': '211102901', '_pdf_hash': '46eb5e5db8f1765db0f7a7152aa06e87dc81cedd'}}\n",
      " 3 bigscience-data/roots_en_s2orc_ai2_pdf_parses/2689513?seg=para_128_8&seg_id=38 11.05530\n",
      "{'id': 'bigscience-data/roots_en_s2orc_ai2_pdf_parses/2689513?seg=para_128_8&seg_id=38', 'contents': 'union would put an end to French turmoil and ills. The two nations were in one respect complementary: Britain had at its disposal accumulated trade capital, France a fertile soil. More important was their community of political ideas. Britain had behind it one hundred and thirty years of the parliamentary government upon which the French were now embarking; the constitutional party in France would find in the British nation support against both the defenders of despotism and those of an extravagant liberty. France was the only nation on the continent of Europe, all the other states were only governments; between France and Britain nation could speak to nation and influence the governments to act according to the national will. Assembly of the Champ de Mai adopted the Acte ', 'meta': {'paper_id': '3270766', '_pdf_hash': 'fa11e12404f4be3f3b8ff98ecc0248195e048fcd'}}\n"
     ]
    }
   ],
   "source": [
    "hits = searcher.search('two nations were in one respect complementary')\n",
    "for i in range(0, 3):\n",
    "    print(f'{i+1:2} {hits[i].docid:15} {hits[i].score:.5f}')\n",
    "    raw = json.loads(hits[i].raw)\n",
    "    print(raw)"
   ]
  },
  {
   "cell_type": "code",
   "execution_count": null,
   "id": "84f2f93a",
   "metadata": {},
   "outputs": [],
   "source": []
  }
 ],
 "metadata": {
  "kernelspec": {
   "display_name": "Python 3 (ipykernel)",
   "language": "python",
   "name": "python3"
  },
  "language_info": {
   "codemirror_mode": {
    "name": "ipython",
    "version": 3
   },
   "file_extension": ".py",
   "mimetype": "text/x-python",
   "name": "python",
   "nbconvert_exporter": "python",
   "pygments_lexer": "ipython3",
   "version": "3.8.13"
  }
 },
 "nbformat": 4,
 "nbformat_minor": 5
}
